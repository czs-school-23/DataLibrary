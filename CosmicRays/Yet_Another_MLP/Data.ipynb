{
 "cells": [
  {
   "cell_type": "code",
   "execution_count": 1,
   "metadata": {},
   "outputs": [],
   "source": [
    "import os\n",
    "import numpy as np\n",
    "\n",
    "import numpy as np\n",
    "import matplotlib.pyplot as plt\n",
    "plt.rcParams['font.family'] = 'serif'\n",
    "plt.rcParams['font.serif'] = ['DejaVu Serif']\n",
    "import h5py\n",
    "\n",
    "from utils import read_units, compute_arepo_units, read_momentum_bins"
   ]
  },
  {
   "cell_type": "code",
   "execution_count": 2,
   "metadata": {},
   "outputs": [],
   "source": [
    "fnames = [ \"snapshot_110.hdf5\", \"snapshot_115.hdf5\" , \"snapshot_100.hdf5\", \"snapshot_105.hdf5\" ]\n",
    "folder = 'Full_DB/'\n",
    "files = [folder+i for i in fnames]"
   ]
  },
  {
   "cell_type": "code",
   "execution_count": 15,
   "metadata": {
    "scrolled": true
   },
   "outputs": [
    {
     "name": "stderr",
     "output_type": "stream",
     "text": [
      "/home/dani/.local/lib/python3.7/site-packages/ipykernel_launcher.py:19: H5pyDeprecationWarning: The default file mode will change to 'r' (read-only) in h5py 3.0. To suppress this warning, pass the mode you need to h5py.File(), or set the global default h5.get_config().default_file_mode, or set the environment variable H5PY_DEFAULT_READONLY=1. Available modes are: 'r', 'r+', 'w', 'w-'/'x', 'a'. See the docs for details.\n"
     ]
    },
    {
     "name": "stdout",
     "output_type": "stream",
     "text": [
      "reading file:  Full_DB/snapshot_110.hdf5\n",
      "reading file:  Full_DB/snapshot_110.hdf5\n",
      "<KeysViewHDF5 ['CRPressureGradient', 'CRspecDistFunc', 'CRspecEnergy', 'CRspecNumber', 'CRspecSlope', 'Coordinates', 'CosmicRaySpecificEnergy', 'Density', 'ElectronAbundance', 'InternalEnergy', 'MagneticField', 'MagneticFieldDivergence', 'MagneticFieldDivergenceAlternative', 'Masses', 'NeutralHydrogenAbundance', 'ParticleIDs', 'Potential', 'Pressure', 'StarFormationRate', 'Velocities', 'VelocityDivergence']>\n",
      "reading file:  Full_DB/snapshot_115.hdf5\n",
      "reading file:  Full_DB/snapshot_115.hdf5\n",
      "<KeysViewHDF5 ['CRPressureGradient', 'CRspecDistFunc', 'CRspecEnergy', 'CRspecNumber', 'CRspecSlope', 'Coordinates', 'CosmicRaySpecificEnergy', 'Density', 'ElectronAbundance', 'InternalEnergy', 'MagneticField', 'MagneticFieldDivergence', 'MagneticFieldDivergenceAlternative', 'Masses', 'NeutralHydrogenAbundance', 'ParticleIDs', 'Potential', 'Pressure', 'StarFormationRate', 'Velocities', 'VelocityDivergence']>\n",
      "reading file:  Full_DB/snapshot_100.hdf5\n",
      "reading file:  Full_DB/snapshot_100.hdf5\n",
      "<KeysViewHDF5 ['CRPressureGradient', 'CRspecDistFunc', 'CRspecEnergy', 'CRspecNumber', 'CRspecSlope', 'Coordinates', 'CosmicRaySpecificEnergy', 'Density', 'ElectronAbundance', 'InternalEnergy', 'MagneticField', 'MagneticFieldDivergence', 'MagneticFieldDivergenceAlternative', 'Masses', 'NeutralHydrogenAbundance', 'ParticleIDs', 'Potential', 'Pressure', 'StarFormationRate', 'Velocities', 'VelocityDivergence']>\n",
      "reading file:  Full_DB/snapshot_105.hdf5\n",
      "reading file:  Full_DB/snapshot_105.hdf5\n",
      "<KeysViewHDF5 ['CRPressureGradient', 'CRspecDistFunc', 'CRspecEnergy', 'CRspecNumber', 'CRspecSlope', 'Coordinates', 'CosmicRaySpecificEnergy', 'Density', 'ElectronAbundance', 'InternalEnergy', 'MagneticField', 'MagneticFieldDivergence', 'MagneticFieldDivergenceAlternative', 'Masses', 'NeutralHydrogenAbundance', 'ParticleIDs', 'Potential', 'Pressure', 'StarFormationRate', 'Velocities', 'VelocityDivergence']>\n"
     ]
    }
   ],
   "source": [
    "# initialize training dataset arrays\n",
    "pos_arr = []\n",
    "rad_arr = []\n",
    "dens_arr = []\n",
    "mass_arr = []\n",
    "vol_arr = []\n",
    "gpot_arr = []\n",
    "pres_arr = []\n",
    "mag_arr = []\n",
    "Babs_arr = []\n",
    "encr_arr = [] # is this supposed to be a target array?\n",
    "# target array\n",
    "slope_arr = []\n",
    "cr_specs = []\n",
    "centers = []\n",
    "for i, filename in enumerate(files):\n",
    "\n",
    "    # open file\n",
    "    f = h5py.File(filename)\n",
    "    #if filename == files[0]:\n",
    "    #    for k in f[\"PartType0\"].keys():\n",
    "    #        print(k)\n",
    "    \n",
    "    # read units from file\n",
    "    UnitM, UnitL, UnitV, BoxSize = read_units(filename)\n",
    "    U = compute_arepo_units(UnitM, UnitL, UnitV, False)\n",
    "    \n",
    "    # read momenta\n",
    "    pf, pi = read_momentum_bins(filename)\n",
    "    #print(pi)\n",
    "    print(f['PartType0'].keys())\n",
    "    BoxCtr = BoxSize*U[\"UnitLength\"]/2.\n",
    "\n",
    "    # get full data and convert it to cgs\n",
    "    \n",
    "    # positions\n",
    "    pos  = np.array(f[u'PartType0/Coordinates']).astype(np.float64)*U[\"UnitLength\"]-BoxCtr\n",
    "    rad  = np.sqrt(np.sum(pos**2,axis=1))\n",
    "\n",
    "    # pos_arr += list(pos)\n",
    "    rad_arr += list(rad)\n",
    "\n",
    "    # density, mass and volume\n",
    "    dens = np.array(f[u'PartType0/Density']).astype(np.float64)*U[\"UnitDensity\"]\n",
    "    mass = np.array(f[u'PartType0/Masses'])*U[\"UnitMass\"]\n",
    "    volu = mass/dens\n",
    "\n",
    "    dens_arr += list(dens)\n",
    "    mass_arr += list(mass)\n",
    "    vol_arr += list(volu)\n",
    "\n",
    "    # gravitational potential\n",
    "    gpot = np.array(f[u'PartType0/Potential']).astype(np.float64)*U[\"UnitPotential\"]\n",
    "\n",
    "    gpot_arr += list(gpot)\n",
    "\n",
    "    # thermal pressure\n",
    "    pres = np.array(f[u'PartType0/Pressure']).astype(np.float64)*U[\"UnitPressure\"]\n",
    "\n",
    "    pres_arr += list(pres)\n",
    "\n",
    "    # magnetic field vector\n",
    "    mag  = np.array(f[u'PartType0/MagneticField']).astype(np.float64)*U[\"UnitBfield\"]\n",
    "    Babs = np.sqrt(np.sum(mag**2,axis=1))\n",
    "\n",
    "    mag_arr += list(mag)\n",
    "    Babs_arr += list(Babs)\n",
    "    \n",
    "    # total CR energy density\n",
    "    cren = np.array(f[u'PartType0/CosmicRaySpecificEnergy']).astype(np.float64)*U[\"UnitEspecific\"]\n",
    "    encr = cren*dens\n",
    "\n",
    "    encr_arr += list(encr)\n",
    "    \n",
    "    # CR spectrum amplitude\n",
    "    crspec = np.array(f[u'PartType0/CRspecEnergy']).astype(np.float64)\n",
    "    \n",
    "    crx = np.array(f[u'PartType0/CRspecNumber']).astype(np.float64)\n",
    "    \n",
    "    # CR sprectral slope\n",
    "    slope  = np.log(crspec[:,-1]/crspec[:,-2]) / np.log(pi[-1]/pi[-2])\n",
    "\n",
    "    slope_arr += list(slope)\n",
    "    \n",
    "    idcs = np.where(dens > 1e-29)\n",
    "    ichk = np.argsort(rad[idcs])[0]\n",
    "    if i == 0:\n",
    "        centers.append(ichk)\n",
    "        prev_len = rad[idcs].shape[0]\n",
    "    else:\n",
    "        centers.append(ichk+prev_len)\n",
    "        prev_len += rad[idcs].shape[0]\n",
    "        \n",
    "    \n",
    "    cr_specs.extend(crspec)\n",
    "# put em in numpy\n",
    "# training dataset arrays\n",
    "pos_arr = np.asarray(pos_arr)\n",
    "rad_arr = np.asarray(rad_arr)\n",
    "dens_arr = np.asarray(dens_arr)\n",
    "mass_arr = np.asarray(mass_arr)\n",
    "vol_arr = np.asarray(vol_arr)\n",
    "gpot_arr = np.asarray(gpot_arr)\n",
    "pres_arr = np.asarray(pres_arr)\n",
    "mag_arr = np.asarray(mag_arr)\n",
    "Babs_arr = np.asarray(Babs_arr)\n",
    "encr_arr = np.asarray(encr_arr)\n",
    "# target array\n",
    "slope_arr = np.asarray(slope_arr)\n",
    "cr_specs = np.asarray(cr_specs)"
   ]
  },
  {
   "cell_type": "code",
   "execution_count": 36,
   "metadata": {},
   "outputs": [
    {
     "name": "stderr",
     "output_type": "stream",
     "text": [
      "/home/dani/.local/lib/python3.7/site-packages/ipykernel_launcher.py:10: H5pyDeprecationWarning: The default file mode will change to 'r' (read-only) in h5py 3.0. To suppress this warning, pass the mode you need to h5py.File(), or set the global default h5.get_config().default_file_mode, or set the environment variable H5PY_DEFAULT_READONLY=1. Available modes are: 'r', 'r+', 'w', 'w-'/'x', 'a'. See the docs for details.\n",
      "  # Remove the CWD from sys.path while we load stuff.\n"
     ]
    },
    {
     "name": "stdout",
     "output_type": "stream",
     "text": [
      "CRPressureGradient\n",
      "CRspecDistFunc\n",
      "CRspecEnergy\n",
      "CRspecNumber\n",
      "CRspecSlope\n",
      "Coordinates\n",
      "CosmicRaySpecificEnergy\n",
      "Density\n",
      "ElectronAbundance\n",
      "InternalEnergy\n",
      "MagneticField\n",
      "MagneticFieldDivergence\n",
      "MagneticFieldDivergenceAlternative\n",
      "Masses\n",
      "NeutralHydrogenAbundance\n",
      "ParticleIDs\n",
      "Potential\n",
      "Pressure\n",
      "StarFormationRate\n",
      "Velocities\n",
      "VelocityDivergence\n",
      "reading file:  Full_DB/snapshot_110.hdf5\n",
      "reading file:  Full_DB/snapshot_110.hdf5\n",
      "properties of the central cells\n",
      "  position [ 1.21773917e+23 -8.15375203e+23 -1.94769487e+23]\n",
      "  density  2.583633303091099e-29\n",
      "reading file:  Full_DB/snapshot_115.hdf5\n",
      "reading file:  Full_DB/snapshot_115.hdf5\n"
     ]
    },
    {
     "name": "stderr",
     "output_type": "stream",
     "text": [
      "/home/dani/.local/lib/python3.7/site-packages/ipykernel_launcher.py:10: H5pyDeprecationWarning: The default file mode will change to 'r' (read-only) in h5py 3.0. To suppress this warning, pass the mode you need to h5py.File(), or set the global default h5.get_config().default_file_mode, or set the environment variable H5PY_DEFAULT_READONLY=1. Available modes are: 'r', 'r+', 'w', 'w-'/'x', 'a'. See the docs for details.\n",
      "  # Remove the CWD from sys.path while we load stuff.\n"
     ]
    },
    {
     "name": "stdout",
     "output_type": "stream",
     "text": [
      "properties of the central cells\n",
      "  position [ 5.61658183e+23 -5.54067159e+23  8.26074270e+21]\n",
      "  density  5.218087544110336e-29\n",
      "reading file:  Full_DB/snapshot_100.hdf5\n",
      "reading file:  Full_DB/snapshot_100.hdf5\n"
     ]
    },
    {
     "name": "stderr",
     "output_type": "stream",
     "text": [
      "/home/dani/.local/lib/python3.7/site-packages/ipykernel_launcher.py:10: H5pyDeprecationWarning: The default file mode will change to 'r' (read-only) in h5py 3.0. To suppress this warning, pass the mode you need to h5py.File(), or set the global default h5.get_config().default_file_mode, or set the environment variable H5PY_DEFAULT_READONLY=1. Available modes are: 'r', 'r+', 'w', 'w-'/'x', 'a'. See the docs for details.\n",
      "  # Remove the CWD from sys.path while we load stuff.\n"
     ]
    },
    {
     "name": "stdout",
     "output_type": "stream",
     "text": [
      "properties of the central cells\n",
      "  position [-5.29832420e+23  7.40737683e+23 -1.21744160e+23]\n",
      "  density  3.605315744694833e-29\n",
      "reading file:  Full_DB/snapshot_105.hdf5\n",
      "reading file:  Full_DB/snapshot_105.hdf5\n"
     ]
    },
    {
     "name": "stderr",
     "output_type": "stream",
     "text": [
      "/home/dani/.local/lib/python3.7/site-packages/ipykernel_launcher.py:10: H5pyDeprecationWarning: The default file mode will change to 'r' (read-only) in h5py 3.0. To suppress this warning, pass the mode you need to h5py.File(), or set the global default h5.get_config().default_file_mode, or set the environment variable H5PY_DEFAULT_READONLY=1. Available modes are: 'r', 'r+', 'w', 'w-'/'x', 'a'. See the docs for details.\n",
      "  # Remove the CWD from sys.path while we load stuff.\n"
     ]
    },
    {
     "name": "stdout",
     "output_type": "stream",
     "text": [
      "properties of the central cells\n",
      "  position [-4.78943970e+23 -4.58600418e+23 -5.11460922e+21]\n",
      "  density  5.825650534205644e-29\n"
     ]
    },
    {
     "data": {
      "image/png": "[encoded data removed]",
      "text/plain": [
       "<Figure size 432x288 with 1 Axes>"
      ]
     },
     "metadata": {
      "needs_background": "light"
     },
     "output_type": "display_data"
    }
   ],
   "source": [
    "plot_chk_spectra = True\n",
    "\n",
    "if plot_chk_spectra:\n",
    "    fig, ax = plt.subplots()\n",
    "centers = []\n",
    "# loop over files\n",
    "for j, filename in enumerate(files):\n",
    "\n",
    "    # open file\n",
    "    f = h5py.File(filename)\n",
    "    if filename == files[0]:\n",
    "        for k in f[\"PartType0\"].keys():\n",
    "            print(k)\n",
    "    \n",
    "    # read units from file\n",
    "    UnitM, UnitL, UnitV, BoxSize = read_units(filename)\n",
    "    U = compute_arepo_units(UnitM, UnitL, UnitV, False)\n",
    "    \n",
    "    # read momenta\n",
    "    pf, pi = read_momentum_bins(filename)\n",
    "    #print(pi)\n",
    "    \n",
    "    BoxCtr = BoxSize*U[\"UnitLength\"]/2.\n",
    "\n",
    "    # get full data and convert it to cgs\n",
    "    \n",
    "    # positions\n",
    "    pos  = np.array(f[u'PartType0/Coordinates']).astype(np.float64)*U[\"UnitLength\"]-BoxCtr\n",
    "    rad  = np.sqrt(np.sum(pos**2,axis=1))\n",
    "\n",
    "    # density, mass and volume\n",
    "    dens = np.array(f[u'PartType0/Density']).astype(np.float64)*U[\"UnitDensity\"]\n",
    "    mass = np.array(f[u'PartType0/Masses'])*U[\"UnitMass\"]\n",
    "    volu = mass/dens\n",
    "\n",
    "    # gravitational potential\n",
    "    gpot = np.array(f[u'PartType0/Potential']).astype(np.float64)*U[\"UnitPotential\"]\n",
    "\n",
    "    # thermal pressure\n",
    "    pres = np.array(f[u'PartType0/Pressure']).astype(np.float64)*U[\"UnitPressure\"]\n",
    "\n",
    "    # magnetic field vector\n",
    "    mag  = np.array(f[u'PartType0/MagneticField']).astype(np.float64)*U[\"UnitBfield\"]\n",
    "    Babs = np.sqrt(np.sum(mag**2,axis=1))\n",
    "    \n",
    "    # total CR energy density\n",
    "    cren = np.array(f[u'PartType0/CosmicRaySpecificEnergy']).astype(np.float64)*U[\"UnitEspecific\"]\n",
    "    encr = cren*dens\n",
    "    \n",
    "    # CR spectrum amplitude\n",
    "    crspec = np.array(f[u'PartType0/CRspecEnergy']).astype(np.float64)\n",
    "    slope  = np.log(crspec[:,-1]/crspec[:,-2]) / np.log(pi[-1]/pi[-2])\n",
    "    \n",
    "    # print some checks\n",
    "    # select cell closest to the centre of the galaxy\n",
    "    idcs = np.where(dens > 1e-29)\n",
    "    ichk = np.argsort(rad[idcs])[0]\n",
    "    if j == 0:\n",
    "        centers.append(ichk)\n",
    "        prev_len = rad[idcs].shape[0]\n",
    "    else:\n",
    "        centers.append(ichk+prev_len)\n",
    "        prev_len += rad[idcs].shape[0]\n",
    "    print(\"properties of the central cells\")\n",
    "    print(\"  position\", pos[ichk])\n",
    "    print(\"  density \", dens[ichk])\n",
    "    \n",
    "    if plot_chk_spectra:\n",
    "        ax.loglog(pi, crspec[idcs][ichk])\n",
    "        \n",
    "if plot_chk_spectra:\n",
    "    ax.set_xlabel(\"momentum (GeV/c)\")\n",
    "    ax.set_ylabel(\"energy\")\n",
    "    fig.savefig(\"spectra-of-central-cell.pdf\", bbox_inches=\"tight\")"
   ]
  },
  {
   "cell_type": "code",
   "execution_count": 35,
   "metadata": {},
   "outputs": [
    {
     "data": {
      "text/plain": [
       "[4356992, 5227095, 5801676, 6800399]"
      ]
     },
     "execution_count": 35,
     "metadata": {},
     "output_type": "execute_result"
    }
   ],
   "source": [
    "centers"
   ]
  },
  {
   "cell_type": "code",
   "execution_count": 38,
   "metadata": {},
   "outputs": [
    {
     "data": {
      "image/png": "[encoded data removed]",
      "text/plain": [
       "<Figure size 432x288 with 1 Axes>"
      ]
     },
     "metadata": {
      "needs_background": "light"
     },
     "output_type": "display_data"
    }
   ],
   "source": [
    "fig, ax = plt.subplots()\n",
    "for c in centers:\n",
    "    ax.loglog(pi, cr_specs[idcs][c])\n",
    "plt.show()"
   ]
  },
  {
   "cell_type": "code",
   "execution_count": 37,
   "metadata": {},
   "outputs": [
    {
     "name": "stdout",
     "output_type": "stream",
     "text": [
      "(3525544, 4)\n"
     ]
    }
   ],
   "source": [
    "idcs = np.where(dens_arr > 1e-29)\n",
    "\n",
    "X = np.log10(np.array([rad_arr[idcs], dens_arr[idcs], Babs_arr[idcs], encr_arr[idcs]])).T\n",
    "print(X.shape) #nsamples, nquantities\n",
    "#Normalize each input qt\n",
    "means, stds = [], []\n",
    "for i in range(X.shape[1]):\n",
    "    m, std = np.mean(X[:,i]), np.std(X[:,i])\n",
    "    means.append(m)\n",
    "    stds.append(std)\n",
    "    X[:,i] -= m\n",
    "    X[:,i] /= std"
   ]
  },
  {
   "cell_type": "code",
   "execution_count": 39,
   "metadata": {},
   "outputs": [],
   "source": [
    "l = np.log10(cr_specs[idcs])\n",
    "mean, std = np.mean(l), np.std(l)\n",
    "Y = (l-mean)/std"
   ]
  },
  {
   "cell_type": "code",
   "execution_count": 40,
   "metadata": {},
   "outputs": [],
   "source": [
    "np.savez('database', input_data = X, output_data = Y, \n",
    "         momentum_GeV = pi, input_means = means, \n",
    "         input_stds = stds, output_mean = mean,\n",
    "        output_std = std, centers = centers)"
   ]
  },
  {
   "cell_type": "code",
   "execution_count": null,
   "metadata": {},
   "outputs": [],
   "source": []
  }
 ],
 "metadata": {
  "kernelspec": {
   "display_name": "Python 3",
   "language": "python",
   "name": "python3"
  },
  "language_info": {
   "codemirror_mode": {
    "name": "ipython",
    "version": 3
   },
   "file_extension": ".py",
   "mimetype": "text/x-python",
   "name": "python",
   "nbconvert_exporter": "python",
   "pygments_lexer": "ipython3",
   "version": "3.7.13"
  }
 },
 "nbformat": 4,
 "nbformat_minor": 2
}
